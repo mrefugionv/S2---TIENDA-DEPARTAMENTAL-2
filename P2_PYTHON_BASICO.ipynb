{
  "cells": [
    {
      "cell_type": "markdown",
      "metadata": {
        "id": "view-in-github",
        "colab_type": "text"
      },
      "source": [
        "<a href=\"https://colab.research.google.com/github/mrefugionv/S2---TIENDA-DEPARTAMENTAL-2/blob/main/P2_PYTHON_BASICO.ipynb\" target=\"_parent\"><img src=\"https://colab.research.google.com/assets/colab-badge.svg\" alt=\"Open In Colab\"/></a>"
      ]
    },
    {
      "cell_type": "markdown",
      "metadata": {
        "id": "UCjlyTyyJm9R"
      },
      "source": [
        "\n",
        "\n",
        "Todavía desempeñándote como miembro del equipo analítico, en el primer proyecto hemos sentado las bases para la segunda fase. ¡Hemos llegado! Ahora aplicarás técnicas avanzadas para extraer datos significativos, atendiendo a las crecientes necesidades del cliente."
      ]
    },
    {
      "cell_type": "markdown",
      "metadata": {
        "id": "4ZzATQthJm9Y"
      },
      "source": [
        "Como sabes, las empresas recopilan y almacenan datos de una forma particular. Store 1 quiere almacenar toda la información de sus clientes en una tabla.\n",
        "\n",
        "\n",
        "| user_id | user_name | user_age | purchase_category | spending_per_category |\n",
        "| --- | --- | --- | --- | --- |\n",
        "| '32415' | 'mike', 'reed' | 32 | 'electronics', 'sport', 'books' | 894, 213, 173 |\n",
        "| '31980' | 'kate', 'morgan' | 24 | 'clothes', 'shoes' | 439, 390 |\n",
        "\n",
        "En términos técnicos, una tabla es simplemente una lista anidada que contiene una sublista para cada usuario o usuaria.\n",
        "\n",
        "Store 1 ha creado una tabla de este tipo para sus usuarios. Está almacenada en la variable \"users\". Cada sublista contiene el ID del usuario, nombre y apellido, edad, categorías favoritas y el importe gastado en cada categoría."
      ]
    },
    {
      "cell_type": "markdown",
      "metadata": {
        "id": "EMQlsEYlxGET"
      },
      "source": [
        "-\t**user_id:** el identificador único para cada usuario.\n",
        "-\t**user_name:** el nombre de usuario.\n",
        "-\t**user_age:** la edad del usuario.\n",
        "-\t**fav_categories:** las categorías de artículos comprados por el usuario, como 'ELECTRONICS', 'SPORT', 'BOOKS', etc.\n",
        "-\t**total_spendings:** la lista de enteros que indican la cantidad gastada en cada una de sus categorías favoritas.\n"
      ]
    },
    {
      "cell_type": "code",
      "execution_count": null,
      "metadata": {
        "id": "LfBCH4crxLOt",
        "trusted": true
      },
      "outputs": [],
      "source": [
        "users = [\n",
        "    ['32415', ' mike_reed ', 32.0, ['ELECTRONICS', 'SPORT', 'BOOKS'], [894, 213, 173]],\n",
        "    ['31980', 'kate morgan', 24.0, ['CLOTHES', 'BOOKS'], [439, 390]],\n",
        "    ['32156', ' john doe ', 37.0, ['ELECTRONICS', 'HOME', 'FOOD'], [459, 120, 99]],\n",
        "    ['32761', 'SAMANTHA SMITH', 29.0, ['CLOTHES', 'ELECTRONICS', 'BEAUTY'], [299, 679, 85]],\n",
        "    ['32984', 'David White', 41.0, ['BOOKS', 'HOME', 'SPORT'], [234, 329, 243]],\n",
        "    ['33001', 'emily brown', 26.0, ['BEAUTY', 'HOME', 'FOOD'], [213, 659, 79]],\n",
        "    ['33767', ' Maria Garcia', 33.0, ['CLOTHES', 'FOOD', 'BEAUTY'], [499, 189, 63]],\n",
        "    ['33912', 'JOSE MARTINEZ', 22.0, ['SPORT', 'ELECTRONICS', 'HOME'], [259, 549, 109]],\n",
        "    ['34009', 'lisa wilson ', 35.0, ['HOME', 'BOOKS', 'CLOTHES'], [329, 189, 329]],\n",
        "    ['34278', 'James Lee', 28.0, ['BEAUTY', 'CLOTHES', 'ELECTRONICS'], [189, 299, 579]],\n",
        "]\n"
      ]
    },
    {
      "cell_type": "markdown",
      "metadata": {
        "id": "vgnoxECvlWvr"
      },
      "source": [
        "# Paso 1\n",
        "\n",
        "En la última tarea de la primera parte de este proyecto escribiste código para:\n",
        "\n",
        "1. Eliminar todos los espacios iniciales y finales de los nombres, así como cualquier guion bajo.\n",
        "2. Convertir todas las edades en números enteros.\n",
        "3. Separar todos los nombres y apellidos en una sublista.\n",
        "\n",
        "Hagámoslo ahora una función para que podamos usarla para fijar a cualquier cliente. Nombra a tu función `clean_user`. Debe recibir una lista con toda la información del cliente (user_info), así como dos enteros. Uno de ellos señala el índice del nombre del cliente y el otro es el índice de la edad del cliente en la lista. Debe devolver la lista limpia después de aplicar todos los cambios anteriores. Pruébala llamándola, pasándole la lista `test_user[]` y luego muéstrala en pantalla.\n"
      ]
    },
    {
      "cell_type": "code",
      "execution_count": null,
      "metadata": {
        "colab": {
          "base_uri": "https://localhost:8080/"
        },
        "id": "RN6LIlHelWvr",
        "outputId": "632ceadd-0f9a-46cf-91c1-b4bea53623d0",
        "trusted": true
      },
      "outputs": [
        {
          "name": "stdout",
          "output_type": "stream",
          "text": [
            "['32415', ['mike', 'reed'], 32, ['ELECTRONICS', 'SPORT', 'BOOKS'], [894, 213, 173]]\n"
          ]
        }
      ],
      "source": [
        "# define tu función aquí\n",
        "def clean_user (user_info,name_index,age_index):\n",
        "\n",
        "    # Paso 1: elimina del nombre espacios iniciales y finales, así como guiones\n",
        "    user_name_1 = user_info[name_index].strip().replace('_',' ')\n",
        "\n",
        "    # Paso 2: convierte la edad en entero\n",
        "    user_age_1 = int(user_info[age_index])\n",
        "\n",
        "    # Paso 3: separa el nombre y el apellido en una sublista\n",
        "    user_name_1 = user_name_1.split(' ')\n",
        "\n",
        "    # Prepara la lista con la información completa del usuario\n",
        "    # Reemplaza el nombre y la edad originales con los datos limpios\n",
        "    user_info[name_index] = user_name_1\n",
        "    user_info[age_index] = user_age_1\n",
        "\n",
        "    return user_info\n",
        "\n",
        "# Prueba la función\n",
        "test_user = ['32415', ' mike_reed ', 32.0, ['ELECTRONICS', 'SPORT', 'BOOKS'], [894, 213, 173]]\n",
        "name_index = 1\n",
        "age_index = 2\n",
        "\n",
        "print(clean_user( test_user, name_index, age_index))# completa aquí el llamado de la función"
      ]
    },
    {
      "cell_type": "markdown",
      "metadata": {
        "id": "zF6ADQNLJm9W"
      },
      "source": [
        "# Paso 2\n",
        "\n",
        "Observa que todas las categorías favoritas están almacenadas en mayúsculas. Llena una nueva lista llamada `fav_categories_low` con las mismas categorías, pero en minúsculas, iterando sobre los valores en la lista `fav_categories`, modificándolos y luego añade los nuevos valores a la lista `fav_categories_low`. Como siempre, muestra el resultado final.\n"
      ]
    },
    {
      "cell_type": "code",
      "execution_count": null,
      "metadata": {
        "colab": {
          "base_uri": "https://localhost:8080/"
        },
        "id": "Ltoq2LXjJm9W",
        "outputId": "5a05c845-8d3c-4890-8070-38ccb63dd5b4",
        "trusted": true
      },
      "outputs": [
        {
          "name": "stdout",
          "output_type": "stream",
          "text": [
            "['electronics', 'sport', 'books']\n"
          ]
        }
      ],
      "source": [
        "fav_categories = ['ELECTRONICS', 'SPORT', 'BOOKS']\n",
        "fav_categories_low = []\n",
        "\n",
        "# escribe tu código aquí\n",
        "for categorie in fav_categories: #Iteramos sobre los elementos de la lista fav_categories\n",
        "    categorie_low = categorie.lower() #Convertimos ese elemento (str) a minuscula\n",
        "    fav_categories_low.append(categorie_low) #añadimos el elemento en minuscula a la nueva lista\n",
        "\n",
        "print(fav_categories_low)"
      ]
    },
    {
      "cell_type": "markdown",
      "metadata": {
        "id": "xhKqJwaqdrRu"
      },
      "source": [
        "# Paso 3\n",
        "\n",
        "Ahora hagamos lo mismo, pero para cada uno de los usuarios de la empresa. Llena una lista nueva llamada `users_categories_low` con los mismos usuarios, pero con sus categorías en minúsculas, iterando sobre los valores en la lista `users`, luego itera sobre los valores en `user_categories`, modificándolos, y después agrega los nuevos valores de usuarios a la lista `users_categories_low`. Como siempre, muestra el resultado final.\n"
      ]
    },
    {
      "cell_type": "code",
      "execution_count": null,
      "metadata": {
        "colab": {
          "base_uri": "https://localhost:8080/"
        },
        "id": "uBfnDzZfdrR1",
        "outputId": "6e0b3a3b-c94e-4402-a9d1-dc88fe07256e",
        "trusted": true
      },
      "outputs": [
        {
          "name": "stdout",
          "output_type": "stream",
          "text": [
            "[['32415', ' mike_reed ', 32.0, ['electronics', 'sport', 'books'], [894, 213, 173]], ['31980', 'kate morgan', 24.0, ['clothes', 'books'], [439, 390]], ['32156', ' john doe ', 37.0, ['electronics', 'home', 'food'], [459, 120, 99]], ['32761', 'SAMANTHA SMITH', 29.0, ['clothes', 'electronics', 'beauty'], [299, 679, 85]], ['32984', 'David White', 41.0, ['books', 'home', 'sport'], [234, 329, 243]], ['33001', 'emily brown', 26.0, ['beauty', 'home', 'food'], [213, 659, 79]], ['33767', ' Maria Garcia', 33.0, ['clothes', 'food', 'beauty'], [499, 189, 63]], ['33912', 'JOSE MARTINEZ', 22.0, ['sport', 'electronics', 'home'], [259, 549, 109]], ['34009', 'lisa wilson ', 35.0, ['home', 'books', 'clothes'], [329, 189, 329]], ['34278', 'James Lee', 28.0, ['beauty', 'clothes', 'electronics'], [189, 299, 579]]]\n",
            "[['32415', ' mike_reed ', 32.0, ['electronics', 'sport', 'books'], [894, 213, 173]], ['31980', 'kate morgan', 24.0, ['clothes', 'books'], [439, 390]], ['32156', ' john doe ', 37.0, ['electronics', 'home', 'food'], [459, 120, 99]], ['32761', 'SAMANTHA SMITH', 29.0, ['clothes', 'electronics', 'beauty'], [299, 679, 85]], ['32984', 'David White', 41.0, ['books', 'home', 'sport'], [234, 329, 243]], ['33001', 'emily brown', 26.0, ['beauty', 'home', 'food'], [213, 659, 79]], ['33767', ' Maria Garcia', 33.0, ['clothes', 'food', 'beauty'], [499, 189, 63]], ['33912', 'JOSE MARTINEZ', 22.0, ['sport', 'electronics', 'home'], [259, 549, 109]], ['34009', 'lisa wilson ', 35.0, ['home', 'books', 'clothes'], [329, 189, 329]], ['34278', 'James Lee', 28.0, ['beauty', 'clothes', 'electronics'], [189, 299, 579]]]\n"
          ]
        }
      ],
      "source": [
        "users = [\n",
        "    ['32415', ' mike_reed ', 32.0, ['ELECTRONICS', 'SPORT', 'BOOKS'], [894, 213, 173]],\n",
        "    ['31980', 'kate morgan', 24.0, ['CLOTHES', 'BOOKS'], [439, 390]],\n",
        "    ['32156', ' john doe ', 37.0, ['ELECTRONICS', 'HOME', 'FOOD'], [459, 120, 99]],\n",
        "    ['32761', 'SAMANTHA SMITH', 29.0, ['CLOTHES', 'ELECTRONICS', 'BEAUTY'], [299, 679, 85]],\n",
        "    ['32984', 'David White', 41.0, ['BOOKS', 'HOME', 'SPORT'], [234, 329, 243]],\n",
        "    ['33001', 'emily brown', 26.0, ['BEAUTY', 'HOME', 'FOOD'], [213, 659, 79]],\n",
        "    ['33767', ' Maria Garcia', 33.0, ['CLOTHES', 'FOOD', 'BEAUTY'], [499, 189, 63]],\n",
        "    ['33912', 'JOSE MARTINEZ', 22.0, ['SPORT', 'ELECTRONICS', 'HOME'], [259, 549, 109]],\n",
        "    ['34009', 'lisa wilson ', 35.0, ['HOME', 'BOOKS', 'CLOTHES'], [329, 189, 329]],\n",
        "    ['34278', 'James Lee', 28.0, ['BEAUTY', 'CLOTHES', 'ELECTRONICS'], [189, 299, 579]],\n",
        "]\n",
        "\n",
        "########## Mi manera de solucionarlo ########################################################\n",
        "\n",
        "users_categories_low = []\n",
        "for user in users: #iteramos sobre los usuarios\n",
        "    users_categories_low.append(user) #agregamos la info del usuario en la nueva lista users_categories_low\n",
        "    categories_low = [] #inicializamos nueva lista donde se colocan las categorias en minusculas\n",
        "    for category in user[3]: # iteramos sobre los elementos de la lista de categorias favoritas para el usuario\n",
        "        lowered_category = category.lower() # se convierte a minusculas el elemento de la lista categorias favoritas\n",
        "        categories_low.append(lowered_category)# se agrega la categoria en minusculas a la lista de categorias en minuscula\n",
        "    user[3]= categories_low # cambiamos la lista de categorias en mayucula por la creada en minusculas\n",
        "\n",
        "print(users_categories_low)\n",
        "\n",
        "######### Solución de acuerdo a la pista ##############################################################\n",
        "\n",
        "users_categories_low = []\n",
        "for user in users: #iteramos sobre los usuarios#agregamos la info del usuario en la nueva lista users_categories_low\n",
        "    categories_low = [] #inicializamos nueva lista donde se colocan las categorias en minusculas\n",
        "    for category in user[3]: # iteramos sobre los elementos de la lista de categorias favoritas para el usuario\n",
        "        lowered_category = category.lower() # se convierte a minusculas el elemento de la lista categorias favoritas\n",
        "        categories_low.append(lowered_category)# se agrega la categoria en minusculas a la lista de categorias en minuscula\n",
        "    user.pop(3) #eliminamos la lista de categoerias anterior (en mayusculas) del usuario\n",
        "    user.insert(3, categories_low) #Agregamos en el mismo indice donde se encontraba la lista de categorias, ahora en minuscula.\n",
        "    users_categories_low.append(user) # agregamos el usuario a nueva lista de usuarios\n",
        "\n",
        "print(users_categories_low)\n"
      ]
    },
    {
      "cell_type": "markdown",
      "metadata": {
        "id": "uisdgp0or8rS"
      },
      "source": [
        "# Paso 4\n",
        "\n",
        "Ahora, completemos el código de nuestra función `clean_user` para limpiar la categoría:\n",
        "1. Añade otro parámetro con el índice de categorías.\n",
        "2. Pon todos los nombres en minúsculas antes de aplicar \"strip\" y \"replace\".\n",
        "\n",
        "Después, crea un bucle y aplica tu función a toda la lista de usuarios, agregando tus resultados a la lista `users_clean`. Después muéstralo"
      ]
    },
    {
      "cell_type": "code",
      "execution_count": null,
      "metadata": {
        "colab": {
          "base_uri": "https://localhost:8080/"
        },
        "id": "ioGD_Cs5r8ra",
        "outputId": "fddb59df-a686-4270-9a01-1803d53a0da9",
        "trusted": true
      },
      "outputs": [
        {
          "name": "stdout",
          "output_type": "stream",
          "text": [
            "[['32415', ['mike', 'reed'], 32, ['electronics', 'sport', 'books'], [894, 213, 173]], ['31980', ['kate', 'morgan'], 24, ['clothes', 'books'], [439, 390]], ['32156', ['john', 'doe'], 37, ['electronics', 'home', 'food'], [459, 120, 99]], ['32761', ['samantha', 'smith'], 29, ['clothes', 'electronics', 'beauty'], [299, 679, 85]], ['32984', ['david', 'white'], 41, ['books', 'home', 'sport'], [234, 329, 243]], ['33001', ['emily', 'brown'], 26, ['beauty', 'home', 'food'], [213, 659, 79]], ['33767', ['maria', 'garcia'], 33, ['clothes', 'food', 'beauty'], [499, 189, 63]], ['33912', ['jose', 'martinez'], 22, ['sport', 'electronics', 'home'], [259, 549, 109]], ['34009', ['lisa', 'wilson'], 35, ['home', 'books', 'clothes'], [329, 189, 329]], ['34278', ['james', 'lee'], 28, ['beauty', 'clothes', 'electronics'], [189, 299, 579]]]\n"
          ]
        }
      ],
      "source": [
        "def clean_user(user_info, name_index, age_index, cat_index):\n",
        "    # Paso 1: pon todo en minúsculas y elimina del nombre espacios iniciales y finales, así como guiones\n",
        "    user_name_1 = user_info[name_index].lower().strip().replace('_',' ') # escribe tu código aquí\n",
        "\n",
        "    # Paso 2: convierte la edad en entero\n",
        "    user_age_1 = int(user_info[age_index])# escribe tu código aquí\n",
        "\n",
        "    # Paso 3: separa el nombre y el apellido en una sublista\n",
        "    user_name_1 = user_name_1.split(' ')# escribe tu código aquí\n",
        "\n",
        "    # Paso 4: convierte todos los elementos de la lista fav_categories a minusculas\n",
        "    categories_low = []\n",
        "    for category in user[cat_index]: # itera sobre los elementos de la lista de categorias favoritas\n",
        "        lowered_cat = category.lower() #convierte elemento a minusculas\n",
        "        categories_low.append(lowered_cat) #elemento a minusculas se añade a la nueva lista\n",
        "\n",
        "    # Prepara la lista con la información completa del usuario\n",
        "    # Reemplaza el nombre y la edad originales con los datos limpios\n",
        "    # escribe tu código aquí\n",
        "    user_info[name_index]= user_name_1\n",
        "    user_info[age_index] = user_age_1\n",
        "    user_info[cat_index] = categories_low\n",
        "\n",
        "    return user_info\n",
        "\n",
        "\n",
        "users = [\n",
        "    ['32415', ' mike_reed ', 32.0, ['ELECTRONICS', 'SPORT', 'BOOKS'], [894, 213, 173]],\n",
        "    ['31980', 'kate morgan', 24.0, ['CLOTHES', 'BOOKS'], [439, 390]],\n",
        "    ['32156', ' john doe ', 37.0, ['ELECTRONICS', 'HOME', 'FOOD'], [459, 120, 99]],\n",
        "    ['32761', 'SAMANTHA SMITH', 29.0, ['CLOTHES', 'ELECTRONICS', 'BEAUTY'], [299, 679, 85]],\n",
        "    ['32984', 'David White', 41.0, ['BOOKS', 'HOME', 'SPORT'], [234, 329, 243]],\n",
        "    ['33001', 'emily brown', 26.0, ['BEAUTY', 'HOME', 'FOOD'], [213, 659, 79]],\n",
        "    ['33767', ' Maria Garcia', 33.0, ['CLOTHES', 'FOOD', 'BEAUTY'], [499, 189, 63]],\n",
        "    ['33912', 'JOSE MARTINEZ', 22.0, ['SPORT', 'ELECTRONICS', 'HOME'], [259, 549, 109]],\n",
        "    ['34009', 'lisa wilson ', 35.0, ['HOME', 'BOOKS', 'CLOTHES'], [329, 189, 329]],\n",
        "    ['34278', 'James Lee', 28.0, ['BEAUTY', 'CLOTHES', 'ELECTRONICS'], [189, 299, 579]],\n",
        "]\n",
        "\n",
        "name_index = 1\n",
        "age_index = 2\n",
        "cat_index = 3\n",
        "users_cleaned = []\n",
        "\n",
        "for user in users:# escribe tu código aquí\n",
        "  user_cleaned = clean_user( user, name_index, age_index, cat_index)# llamamos la funcion con sus argumentos\n",
        "  users_cleaned.append(user_cleaned)# agregamos los valores nuevos de cada usuario a una lista nueva\n",
        "\n",
        "print(users_cleaned)"
      ]
    },
    {
      "cell_type": "markdown",
      "metadata": {
        "id": "eONfrv9nJm9Y"
      },
      "source": [
        "# Paso 5\n",
        "\n",
        "La empresa desea conocer sus ingresos totales y te pide que proporciones este valor.\n",
        "Para calcular los ingresos de la empresa, sigue estos pasos:\n",
        "\n",
        "1. Utiliza `for` para iterar sobre la lista `users`.\n",
        "2. Extrae la lista de gastos de cada usuario y suma los valores.\n",
        "3. Actualiza el valor de los ingresos con el total de cada usuario.\n",
        "\n",
        "Así obtendrás los ingresos totales de la empresa que mostrarás en la pantalla al final.\n"
      ]
    },
    {
      "cell_type": "code",
      "execution_count": null,
      "metadata": {
        "colab": {
          "base_uri": "https://localhost:8080/"
        },
        "id": "ijzboKgoJm9Y",
        "outputId": "9aad5fe8-55ec-475b-9b40-afc590ae05e6",
        "trusted": true
      },
      "outputs": [
        {
          "name": "stdout",
          "output_type": "stream",
          "text": [
            "9189\n",
            "9189\n"
          ]
        }
      ],
      "source": [
        "users = [['32415', ['mike', 'reed'], 32, ['electronics', 'sport', 'books'], [894, 213, 173]],\n",
        "         ['31980', ['kate', 'morgan'], 24, ['clothes', 'books'], [439, 390]],\n",
        "         ['32156', ['john', 'doe'], 37, ['electronics', 'home', 'food'], [459, 120, 99]],\n",
        "         ['32761', ['samantha', 'smith'], 29, ['clothes', 'electronics', 'beauty'], [299, 679, 85]],\n",
        "         ['32984', ['david', 'white'], 41, ['books', 'home', 'sport'], [234, 329, 243]],\n",
        "         ['33001', ['emily', 'brown'], 26, ['beauty', 'home', 'food'], [213, 659, 79]],\n",
        "         ['33767', ['maria', 'garcia'], 33, ['clothes', 'food', 'beauty'], [499, 189, 63]],\n",
        "         ['33912', ['jose', 'martinez'], 22, ['sport', 'electronics', 'home'], [259, 549, 109]],\n",
        "         ['34009', ['lisa', 'wilson'], 35, ['home', 'books', 'clothes'], [329, 189, 329]],\n",
        "         ['34278', ['james', 'lee'], 28, ['beauty', 'clothes', 'electronics'], [189, 299, 579]]]\n",
        "\n",
        "########################### Mi propuesta de solución ###########################################\n",
        "revenue = 0\n",
        "\n",
        "for user in users: # escribe tu código aquí\n",
        "    revenue += sum(user[4]) # con operador de asignacion aumentada vamos añadiendo a los ingresos la suma de ...\n",
        "                            #...la lista contenida en el indice 4 del usuario correspondiente a los gastos del mismo\n",
        "\n",
        "print(revenue)\n",
        "\n",
        "####################### Solución siguiendo la pista ############################################\n",
        "revenue = 0\n",
        "\n",
        "for user in users: # escribe tu código aquí\n",
        "    spendings_list = user[4] #se asigna a esta variable la lista de gastos del usuario\n",
        "    suma_gastos = sum(spendings_list) # se obtiene la suma de los gastos del usuario\n",
        "    revenue += suma_gastos #se actualiza valor revenue con asignación aumentada\n",
        "\n",
        "print(revenue)"
      ]
    },
    {
      "cell_type": "markdown",
      "metadata": {
        "id": "R1wNYes8Jm9X"
      },
      "source": [
        "# Paso 6\n",
        "\n",
        "La empresa quiere ofrecer descuentos a sus clientes leales. Los clientes que realizan compras por un importe total mayor a $1500 se consideran leales y recibirán un descuento.\n",
        "\n",
        "Nuestro objetivo es crear un bucle `while` que compruebe el importe total gastado y se detenga al alcanzarlo. Para simular nuevas compras, la variable `new_purchase` genera un número entre 30 y 80 en cada iteración del bucle. Esto representa la cantidad de dinero gastada en una nueva compra y es lo que debes agregar al total.\n",
        "\n",
        "Una vez que se alcance el importe objetivo y se termine el bucle `while`, se mostrará la cantidad final.\n"
      ]
    },
    {
      "cell_type": "code",
      "execution_count": null,
      "metadata": {
        "colab": {
          "base_uri": "https://localhost:8080/"
        },
        "id": "eVBfoyx7Jm9X",
        "outputId": "27091cb5-f5f4-4b74-f92a-c2d822354a40",
        "trusted": true
      },
      "outputs": [
        {
          "name": "stdout",
          "output_type": "stream",
          "text": [
            "1511\n"
          ]
        }
      ],
      "source": [
        "from random import randint\n",
        "\n",
        "total_amount_spent = 1280\n",
        "target_amount = 1500\n",
        "\n",
        "while total_amount_spent < target_amount: # ciclo while se ejecuta mientras importe total gastado sea menor a importe objetivo\n",
        "\tnew_purchase = randint(30, 80) # generamos un número aleatorio de 30 a 80, de la nueva compra\n",
        "\ttotal_amount_spent += new_purchase # agregamos la nueva compra al importe total gastado\n",
        "\n",
        "print(total_amount_spent)"
      ]
    },
    {
      "cell_type": "markdown",
      "metadata": {
        "id": "IoyNnalCJm9Z"
      },
      "source": [
        "# Paso 7\n",
        "\n",
        "Recorre la lista de usuarios que te hemos proporcionado y muestra los nombres de los clientes menores de 30 años.\n"
      ]
    },
    {
      "cell_type": "code",
      "execution_count": null,
      "metadata": {
        "colab": {
          "base_uri": "https://localhost:8080/"
        },
        "id": "pn5WkcpJJm9Z",
        "outputId": "e95fe449-868e-4a89-f9e6-6e3c7b62bd80",
        "trusted": true
      },
      "outputs": [
        {
          "name": "stdout",
          "output_type": "stream",
          "text": [
            "kate\n",
            "samantha\n",
            "emily\n",
            "jose\n",
            "james\n"
          ]
        }
      ],
      "source": [
        "users = [['32415', ['mike', 'reed'], 32, ['electronics', 'sport', 'books'], [894, 213, 173]],\n",
        "         ['31980', ['kate', 'morgan'], 24, ['clothes', 'books'], [439, 390]],\n",
        "         ['32156', ['john', 'doe'], 37, ['electronics', 'home', 'food'], [459, 120, 99]],\n",
        "         ['32761', ['samantha', 'smith'], 29, ['clothes', 'electronics', 'beauty'], [299, 679, 85]],\n",
        "         ['32984', ['david', 'white'], 41, ['books', 'home', 'sport'], [234, 329, 243]],\n",
        "         ['33001', ['emily', 'brown'], 26, ['beauty', 'home', 'food'], [213, 659, 79]],\n",
        "         ['33767', ['maria', 'garcia'], 33, ['clothes', 'food', 'beauty'], [499, 189, 63]],\n",
        "         ['33912', ['jose', 'martinez'], 22, ['sport', 'electronics', 'home'], [259, 549, 109]],\n",
        "         ['34009', ['lisa', 'wilson'], 35, ['home', 'books', 'clothes'], [329, 189, 329]],\n",
        "         ['34278', ['james', 'lee'], 28, ['beauty', 'clothes', 'electronics'], [189, 299, 579]]]\n",
        "\n",
        "\n",
        "# escribe tu código aquí\n",
        "for user in users: #iteramos en lista de usuarios\n",
        "    if user[2] < 30 : # verificamos que la edad es menor a 30\n",
        "        print(user[1][0]) # imprimimos unicamente el nombre (sin apellido) del usuario"
      ]
    },
    {
      "cell_type": "markdown",
      "metadata": {
        "id": "0ok38JMoJm9Z"
      },
      "source": [
        "# Paso 8\n",
        "\n",
        "Mostremos en pantalla los nombres de los usuarios menores de 30 años que acumulan un gasto total superior a 1000 dólares.\n"
      ]
    },
    {
      "cell_type": "code",
      "execution_count": null,
      "metadata": {
        "colab": {
          "base_uri": "https://localhost:8080/"
        },
        "id": "4oAW1QDFJm9Z",
        "outputId": "c514027b-62cc-42bd-a8bb-d29975abd663",
        "trusted": true
      },
      "outputs": [
        {
          "name": "stdout",
          "output_type": "stream",
          "text": [
            "samantha\n",
            "james\n"
          ]
        }
      ],
      "source": [
        "users = [['32415', ['mike', 'reed'], 32, ['electronics', 'sport', 'books'], [894, 213, 173]],\n",
        "         ['31980', ['kate', 'morgan'], 24, ['clothes', 'books'], [439, 390]],\n",
        "         ['32156', ['john', 'doe'], 37, ['electronics', 'home', 'food'], [459, 120, 99]],\n",
        "         ['32761', ['samantha', 'smith'], 29, ['clothes', 'electronics', 'beauty'], [299, 679, 85]],\n",
        "         ['32984', ['david', 'white'], 41, ['books', 'home', 'sport'], [234, 329, 243]],\n",
        "         ['33001', ['emily', 'brown'], 26, ['beauty', 'home', 'food'], [213, 659, 79]],\n",
        "         ['33767', ['maria', 'garcia'], 33, ['clothes', 'food', 'beauty'], [499, 189, 63]],\n",
        "         ['33912', ['jose', 'martinez'], 22, ['sport', 'electronics', 'home'], [259, 549, 109]],\n",
        "         ['34009', ['lisa', 'wilson'], 35, ['home', 'books', 'clothes'], [329, 189, 329]],\n",
        "         ['34278', ['james', 'lee'], 28, ['beauty', 'clothes', 'electronics'], [189, 299, 579]]]\n",
        "\n",
        "# escribe tu código aquí\n",
        "for user in users: #iteramos en lista de usuarios\n",
        "    gasto_total = sum(user[4]) #obtenemos el gasto total del usuario\n",
        "    if user[2] < 30 and gasto_total> 1000: # verificamos que la edad es menor a 30 y su gasto total sea mayor a 1000\n",
        "        print(user[1][0]) # imprimimos unicamente el nombre (sin apellido) del usuario"
      ]
    },
    {
      "cell_type": "markdown",
      "metadata": {
        "id": "H2jI5ljVJm9d"
      },
      "source": [
        "# Paso 9\n",
        "\n",
        "Ahora vamos a mostrar el nombre y la edad de todos los usuarios y todas las usuarias que han comprado ropa (\"clothes\"). Imprime el nombre y la edad en la misma declaración print.\n"
      ]
    },
    {
      "cell_type": "code",
      "execution_count": 1,
      "metadata": {
        "colab": {
          "base_uri": "https://localhost:8080/"
        },
        "id": "oSLk86udJm9d",
        "outputId": "354ab41a-2df9-441b-bf25-b0c39f17a48e",
        "scrolled": true,
        "trusted": true
      },
      "outputs": [
        {
          "output_type": "stream",
          "name": "stdout",
          "text": [
            "Nombre:kate, Edad:24\n",
            "Nombre:samantha, Edad:29\n",
            "Nombre:maria, Edad:33\n",
            "Nombre:lisa, Edad:35\n",
            "Nombre:james, Edad:28\n"
          ]
        }
      ],
      "source": [
        "users = [['32415', ['mike', 'reed'], 32, ['electronics', 'sport', 'books'], [894, 213, 173]],\n",
        "         ['31980', ['kate', 'morgan'], 24, ['clothes', 'books'], [439, 390]],\n",
        "         ['32156', ['john', 'doe'], 37, ['electronics', 'home', 'food'], [459, 120, 99]],\n",
        "         ['32761', ['samantha', 'smith'], 29, ['clothes', 'electronics', 'beauty'], [299, 679, 85]],\n",
        "         ['32984', ['david', 'white'], 41, ['books', 'home', 'sport'], [234, 329, 243]],\n",
        "         ['33001', ['emily', 'brown'], 26, ['beauty', 'home', 'food'], [213, 659, 79]],\n",
        "         ['33767', ['maria', 'garcia'], 33, ['clothes', 'food', 'beauty'], [499, 189, 63]],\n",
        "         ['33912', ['jose', 'martinez'], 22, ['sport', 'electronics', 'home'], [259, 549, 109]],\n",
        "         ['34009', ['lisa', 'wilson'], 35, ['home', 'books', 'clothes'], [329, 189, 329]],\n",
        "         ['34278', ['james', 'lee'], 28, ['beauty', 'clothes', 'electronics'], [189, 299, 579]]]\n",
        "\n",
        "# escribe tu código aquí\n",
        "cat_searched = 'clothes'\n",
        "\n",
        "for user in users: #iteramos en lista usuarios\n",
        "    for cat in user[3]:#iteramos en categorias favoritas del usuario\n",
        "        if cat == cat_searched: # si se encuentra la cateoria buscada 'clothes' se ejecuta la siguiente línea\n",
        "            print (f\"Nombre:{user[1][0]}, Edad:{user[2]}\") #imprimemos nombre(sin apellido) de usuario y edad de usuario"
      ]
    },
    {
      "cell_type": "markdown",
      "metadata": {
        "id": "88QES-0NJzCJ"
      },
      "source": [
        "# Paso 10\n",
        "\n",
        "La dirección requiere de una función que proporcione información sobre los clientes, incluyendo sus nombres, edades y gasto total, filtrada por categorías específicas. Con base en fragmentos de código anteriores, crearemos una función llamada `get_client_by_cat` con las siguientes especificaciones:\n",
        "\n",
        "1. **Parámetros:**\n",
        "   - **users:** una lista con los datos de los usuarios.\n",
        "   - **id_index:** el índice donde está almacenado el ID del cliente en la lista de usuarios.\n",
        "   - **name_index:** el índice donde está almacenado el nombre del cliente en la lista de usuarios.\n",
        "   - **age_index:** el índice donde la edad del cliente está almacenada en la lista de usuarios.\n",
        "   - **category_index:** el índice donde las categorías de compras del cliente están listadas.\n",
        "   - **amounts_index:** el índice donde las cantidades gastadas en cada categoría están almacenadas.\n",
        "   - **filter_category:** un string que representa el nombre de la categoría para filtrar clientes.\n",
        "\n",
        "2. **Salida:**\n",
        "   - La función devuelve una lista de sublistas. Cada sublista contiene:\n",
        "     - El número ID del cliente.\n",
        "     - Una sublista con el nombre y apellido del cliente.\n",
        "     - La edad del cliente.\n",
        "     - Un entero que representa la cantidad total gastada por el cliente.\n",
        "\n",
        "Por ejemplo, si llamas a la función con los siguientes parámetros:\n",
        "\n",
        "\n",
        "```python\n",
        "get_client_by_cat([\n",
        "    ['32415', ['mike', 'reed'], 32, ['electronics', 'sport', 'books'], [894, 213, 173]]\n",
        "], 0, 1, 2, 3, 4, 'books')\n",
        "```\n",
        "\n",
        "La salida será:\n",
        "\n",
        "```python\n",
        "[['32415', ['mike', 'reed'], 32, 1280]]\n",
        "```\n",
        "\n",
        "Esta salida muestra que el cliente con el ID '32415', llamado Mike Reed, de 32 años, gastó un total de 1280 en la categoría 'books' y otras compras.\n",
        "\n",
        "Después de hacer tu función, llámala pasándole nuestra lista de usuarios, los índices adecuados y la categoría 'home' y muestra en pantalla la lista que resulta.\n",
        "\n"
      ]
    },
    {
      "cell_type": "code",
      "execution_count": null,
      "metadata": {
        "colab": {
          "base_uri": "https://localhost:8080/"
        },
        "id": "-Iqf7AcXJzCP",
        "outputId": "ab62869b-a028-4096-9553-e0a5b5a8c92e",
        "trusted": true
      },
      "outputs": [
        {
          "name": "stdout",
          "output_type": "stream",
          "text": [
            "[['32156', ['john', 'doe'], 37, 678], ['32984', ['david', 'white'], 41, 806], ['33001', ['emily', 'brown'], 26, 951], ['33912', ['jose', 'martinez'], 22, 917], ['34009', ['lisa', 'wilson'], 35, 847]]\n"
          ]
        }
      ],
      "source": [
        "def get_client_by_cat(users, id_index,name_index,age_index,category_index,amounts_index,filter_category):# encabezado funcion con parametros requeridos\n",
        "    result =[]\n",
        "    for user in users: #iteramos en lista usuarios\n",
        "        for cat in user[3]:#iteramos en categorias favoritas del usuario\n",
        "            if cat == filter_category: # si se encuentra la cateoria buscada se ejecuta la siguientes línea\n",
        "                suma_gastos = sum(user[amounts_index]) # se calcula la suma de los gastos del usuario\n",
        "                info_usuario = [user[id_index],user[name_index], user[age_index],suma_gastos] #generamos sublista con info requerida del usuario: id, nombre(sin apellido), edad, y gasto total del cliente\n",
        "                result.append(info_usuario) #anadimos al cliente a la lista resultanta\n",
        "    return result\n",
        "\n",
        "# La lista de usuarios\n",
        "users = [\n",
        "    ['32415', ['mike', 'reed'], 32, ['electronics', 'sport', 'books'], [894, 213, 173]],\n",
        "    ['31980', ['kate', 'morgan'], 24, ['clothes', 'books'], [439, 390]],\n",
        "    ['32156', ['john', 'doe'], 37, ['electronics', 'home', 'food'], [459, 120, 99]],\n",
        "    ['32761', ['samantha', 'smith'], 29, ['clothes', 'electronics', 'beauty'], [299, 679, 85]],\n",
        "    ['32984', ['david', 'white'], 41, ['books', 'home', 'sport'], [234, 329, 243]],\n",
        "    ['33001', ['emily', 'brown'], 26, ['beauty', 'home', 'food'], [213, 659, 79]],\n",
        "    ['33767', ['maria', 'garcia'], 33, ['clothes', 'food', 'beauty'], [499, 189, 63]],\n",
        "    ['33912', ['jose', 'martinez'], 22, ['sport', 'electronics', 'home'], [259, 549, 109]],\n",
        "    ['34009', ['lisa', 'wilson'], 35, ['home', 'books', 'clothes'], [329, 189, 329]],\n",
        "    ['34278', ['james', 'lee'], 28, ['beauty', 'clothes', 'electronics'], [189, 299, 579]]\n",
        "]\n",
        "\n",
        "# Llama a la función con la categoría 'home'\n",
        "result = get_client_by_cat(users,0,1,2,3,4,'home')# escribe tu código aquí\n",
        "\n",
        "# Muestra en pantalla la lista que resulta\n",
        "print(result)\n"
      ]
    },
    {
      "cell_type": "code",
      "execution_count": null,
      "metadata": {
        "trusted": true,
        "id": "Nfv7cy_KEKIY"
      },
      "outputs": [],
      "source": []
    }
  ],
  "metadata": {
    "ExecuteTimeLog": [
      {
        "duration": 7,
        "start_time": "2024-11-13T00:45:06.564Z"
      },
      {
        "duration": 4,
        "start_time": "2024-11-13T00:45:26.611Z"
      },
      {
        "duration": 4,
        "start_time": "2024-11-13T00:45:38.195Z"
      },
      {
        "duration": 5,
        "start_time": "2024-11-13T00:46:35.481Z"
      },
      {
        "duration": 4,
        "start_time": "2024-11-13T00:46:55.227Z"
      },
      {
        "duration": 155,
        "start_time": "2024-11-13T00:51:27.787Z"
      },
      {
        "duration": 3,
        "start_time": "2024-11-13T00:51:36.578Z"
      },
      {
        "duration": 5,
        "start_time": "2024-11-13T00:58:35.701Z"
      },
      {
        "duration": 5,
        "start_time": "2024-11-13T00:58:59.153Z"
      },
      {
        "duration": 6,
        "start_time": "2024-11-13T00:59:25.680Z"
      },
      {
        "duration": 6,
        "start_time": "2024-11-13T01:00:49.335Z"
      },
      {
        "duration": 30,
        "start_time": "2024-11-13T01:07:20.840Z"
      },
      {
        "duration": 7,
        "start_time": "2024-11-13T01:07:32.744Z"
      },
      {
        "duration": 6,
        "start_time": "2024-11-13T01:20:34.974Z"
      },
      {
        "duration": 8,
        "start_time": "2024-11-13T01:20:45.087Z"
      },
      {
        "duration": 7,
        "start_time": "2024-11-13T01:21:10.629Z"
      },
      {
        "duration": 32,
        "start_time": "2024-11-13T01:21:21.193Z"
      },
      {
        "duration": 7,
        "start_time": "2024-11-13T01:22:18.494Z"
      },
      {
        "duration": 7,
        "start_time": "2024-11-13T01:23:30.855Z"
      },
      {
        "duration": 6,
        "start_time": "2024-11-13T01:24:54.470Z"
      },
      {
        "duration": 43,
        "start_time": "2024-11-13T01:29:51.205Z"
      },
      {
        "duration": 6,
        "start_time": "2024-11-13T01:30:01.891Z"
      },
      {
        "duration": 3,
        "start_time": "2024-11-13T01:33:13.294Z"
      },
      {
        "duration": 3,
        "start_time": "2024-11-13T01:34:27.224Z"
      },
      {
        "duration": 7,
        "start_time": "2024-11-13T01:35:44.706Z"
      },
      {
        "duration": 6,
        "start_time": "2024-11-13T01:36:44.123Z"
      },
      {
        "duration": 8,
        "start_time": "2024-11-13T01:38:21.803Z"
      },
      {
        "duration": 27,
        "start_time": "2024-11-13T01:41:45.644Z"
      },
      {
        "duration": 6,
        "start_time": "2024-11-13T01:41:52.178Z"
      },
      {
        "duration": 6,
        "start_time": "2024-11-13T01:42:04.515Z"
      },
      {
        "duration": 6,
        "start_time": "2024-11-13T01:43:21.657Z"
      },
      {
        "duration": 6,
        "start_time": "2024-11-13T01:57:33.260Z"
      },
      {
        "duration": 8,
        "start_time": "2024-11-13T16:15:30.043Z"
      },
      {
        "duration": 5,
        "start_time": "2024-11-13T16:15:30.052Z"
      },
      {
        "duration": 4,
        "start_time": "2024-11-13T16:15:30.059Z"
      },
      {
        "duration": 7,
        "start_time": "2024-11-13T16:15:30.065Z"
      },
      {
        "duration": 8,
        "start_time": "2024-11-13T16:15:30.073Z"
      },
      {
        "duration": 7,
        "start_time": "2024-11-13T16:15:30.082Z"
      },
      {
        "duration": 4,
        "start_time": "2024-11-13T16:15:30.091Z"
      },
      {
        "duration": 14,
        "start_time": "2024-11-13T16:15:30.097Z"
      },
      {
        "duration": 5,
        "start_time": "2024-11-13T16:15:30.114Z"
      },
      {
        "duration": 6,
        "start_time": "2024-11-13T16:15:30.121Z"
      },
      {
        "duration": 8,
        "start_time": "2024-11-13T16:15:30.128Z"
      },
      {
        "duration": 11,
        "start_time": "2024-11-13T16:16:03.849Z"
      }
    ],
    "colab": {
      "provenance": [],
      "include_colab_link": true
    },
    "kernelspec": {
      "display_name": "ambiente_general",
      "language": "python",
      "name": "python3"
    },
    "language_info": {
      "codemirror_mode": {
        "name": "ipython",
        "version": 3
      },
      "file_extension": ".py",
      "mimetype": "text/x-python",
      "name": "python",
      "nbconvert_exporter": "python",
      "pygments_lexer": "ipython3",
      "version": "3.13.3"
    },
    "toc": {
      "base_numbering": 1,
      "nav_menu": {},
      "number_sections": true,
      "sideBar": true,
      "skip_h1_title": true,
      "title_cell": "Table of Contents",
      "title_sidebar": "Contents",
      "toc_cell": false,
      "toc_position": {},
      "toc_section_display": true,
      "toc_window_display": false
    }
  },
  "nbformat": 4,
  "nbformat_minor": 0
}